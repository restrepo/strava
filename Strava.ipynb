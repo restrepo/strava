{
 "cells": [
  {
   "cell_type": "markdown",
   "metadata": {},
   "source": [
    "# Strava segment data\n",
    "\n",
    "Choose some activity ID or the LAST one if `LAST=True`"
   ]
  },
  {
   "cell_type": "code",
   "execution_count": 1,
   "metadata": {},
   "outputs": [],
   "source": [
    "activity=4439026712#4310029237#4088494919\n",
    "date='December 6, 2020'\n",
    "LAST=True"
   ]
  },
  {
   "cell_type": "code",
   "execution_count": 2,
   "metadata": {},
   "outputs": [],
   "source": [
    "import helium\n",
    "import pandas as pd\n",
    "import os\n",
    "import time\n",
    "import sys\n",
    "def metadata(**kwargs):\n",
    "    return kwargs\n",
    "db_dir='db'\n",
    "db_file='{}/strava.json'.format(db_dir)"
   ]
  },
  {
   "cell_type": "code",
   "execution_count": 3,
   "metadata": {},
   "outputs": [],
   "source": [
    "bkp=pd.read_json(db_file)\n",
    "if not LAST and not bkp[bkp.Info.astype(str).str.contains(date)].empty:\n",
    "    sys.exit('Check if already exists in bkp')"
   ]
  },
  {
   "cell_type": "code",
   "execution_count": 4,
   "metadata": {},
   "outputs": [],
   "source": [
    "os.makedirs(db_dir,exist_ok=True)\n",
    "\n",
    "if os.path.isfile(db_file):\n",
    "    df=pd.read_json(db_file)\n",
    "else:\n",
    "    df=pd.DataFrame()\n",
    "\n",
    "browser=helium.start_chrome(\"https://www.strava.com/login\")\n",
    "\n",
    "helium.write('diego.restrepo@gmail.com',into='Your Email')\n",
    "\n",
    "helium.write('opoqdh11',into='Password')\n",
    "\n",
    "helium.click('Log In')\n",
    "\n",
    "time.sleep(10)\n",
    "browser.maximize_window()\n",
    "\n",
    "if LAST:\n",
    "    #Required to activate card-section below\n",
    "    lt=[t for t in browser.find_elements_by_class_name('card-section') \n",
    "       if t.text.find('Latest Activity')>-1][0]\n",
    "\n",
    "    lt.find_element_by_tag_name('a').click()\n",
    "\n",
    "else:\n",
    "    browser.get('https://www.strava.com/activities/{}'.format(activity))\n",
    "# Web page with latest activity\n",
    "\n",
    "# General info\n",
    "\n",
    "time.sleep(10)\n",
    "dt=browser.find_element_by_class_name('details')\n",
    "\n",
    "date=dt.find_element_by_tag_name('time').text\n",
    "\n",
    "name=dt.find_element_by_tag_name('h1').text\n",
    "\n",
    "kk=browser.find_elements_by_tag_name(\"ul\")\n",
    "\n",
    "q=[ k for k in kk if k.text.find('\\nDistance')>-1][0]\n",
    "\n",
    "distance,time,elevation=(t.text for t in q.find_elements_by_tag_name('strong') )\n",
    "\n",
    "q=[ k for k in kk if k.text.find('\\nEstimated Avg Power')>-1][0]\n",
    "\n",
    "power,energy=(t.text for t in q.find_elements_by_tag_name('strong') )\n",
    "\n",
    "# Load tables\n",
    "\n",
    "HIDDEN=True\n",
    "try:\n",
    "    browser.find_element_by_id('show-hidden-efforts').click()\n",
    "except:\n",
    "    HIDDEN=False\n",
    "    pass\n",
    "\n",
    "html=browser.page_source\n",
    "\n",
    "ll=pd.read_html(html)\n",
    "\n",
    "# General info table\n",
    "\n",
    "mtdt=ll[0].groupby('Unnamed: 0').sum().transpose().to_dict()\n",
    "\n",
    "mtdt.update(  metadata(date=date,name=name,distance=distance,time=time,\n",
    "         elevation=elevation,power=elevation,energy=energy)\n",
    "   )\n",
    "\n",
    "#Fix time\n",
    "import time\n",
    "\n",
    "# Segments\n",
    "\n",
    "sgmt=ll[1][['Name','Time','Speed','Power']].reset_index(drop=True)\n",
    "\n",
    "if HIDDEN:\n",
    "    sgmt=sgmt.append( ll[2].rename({2:'Name',4:'Time',5:'Speed',6:'Power'},\n",
    "            axis='columns')[['Name','Time','Speed','Power']] \n",
    "           ).reset_index(drop=True)\n",
    "\n",
    "#Add general info\n",
    "sgmt['Info']=''\n",
    "\n",
    "sgmt['Info'] = [ mtdt  for i in sgmt.index]"
   ]
  },
  {
   "cell_type": "code",
   "execution_count": 5,
   "metadata": {},
   "outputs": [
    {
     "data": {
      "text/html": [
       "<div>\n",
       "<style scoped>\n",
       "    .dataframe tbody tr th:only-of-type {\n",
       "        vertical-align: middle;\n",
       "    }\n",
       "\n",
       "    .dataframe tbody tr th {\n",
       "        vertical-align: top;\n",
       "    }\n",
       "\n",
       "    .dataframe thead th {\n",
       "        text-align: right;\n",
       "    }\n",
       "</style>\n",
       "<table border=\"1\" class=\"dataframe\">\n",
       "  <thead>\n",
       "    <tr style=\"text-align: right;\">\n",
       "      <th></th>\n",
       "      <th>Unnamed: 0</th>\n",
       "      <th>Avg</th>\n",
       "      <th>Max</th>\n",
       "    </tr>\n",
       "  </thead>\n",
       "  <tbody>\n",
       "    <tr>\n",
       "      <th>0</th>\n",
       "      <td>Speed</td>\n",
       "      <td>11.8km/h</td>\n",
       "      <td>53.3km/h</td>\n",
       "    </tr>\n",
       "    <tr>\n",
       "      <th>1</th>\n",
       "      <td>Calories</td>\n",
       "      <td>1292</td>\n",
       "      <td>1292</td>\n",
       "    </tr>\n",
       "    <tr>\n",
       "      <th>2</th>\n",
       "      <td>Elapsed Time</td>\n",
       "      <td>2:25:01</td>\n",
       "      <td>2:25:01</td>\n",
       "    </tr>\n",
       "  </tbody>\n",
       "</table>\n",
       "</div>"
      ],
      "text/plain": [
       "     Unnamed: 0       Avg       Max\n",
       "0         Speed  11.8km/h  53.3km/h\n",
       "1      Calories      1292      1292\n",
       "2  Elapsed Time   2:25:01   2:25:01"
      ]
     },
     "execution_count": 5,
     "metadata": {},
     "output_type": "execute_result"
    }
   ],
   "source": [
    "ll[0]"
   ]
  },
  {
   "cell_type": "code",
   "execution_count": 6,
   "metadata": {},
   "outputs": [
    {
     "data": {
      "text/html": [
       "<div>\n",
       "<style scoped>\n",
       "    .dataframe tbody tr th:only-of-type {\n",
       "        vertical-align: middle;\n",
       "    }\n",
       "\n",
       "    .dataframe tbody tr th {\n",
       "        vertical-align: top;\n",
       "    }\n",
       "\n",
       "    .dataframe thead th {\n",
       "        text-align: right;\n",
       "    }\n",
       "</style>\n",
       "<table border=\"1\" class=\"dataframe\">\n",
       "  <thead>\n",
       "    <tr style=\"text-align: right;\">\n",
       "      <th></th>\n",
       "      <th>Name</th>\n",
       "      <th>Time</th>\n",
       "      <th>Speed</th>\n",
       "      <th>Power</th>\n",
       "      <th>Info</th>\n",
       "    </tr>\n",
       "  </thead>\n",
       "  <tbody>\n",
       "    <tr>\n",
       "      <th>0</th>\n",
       "      <td>A subir al colegio El Salado  0.11km  5m  -3.9%</td>\n",
       "      <td>40s</td>\n",
       "      <td>9.9km/h</td>\n",
       "      <td>297W</td>\n",
       "      <td>{'Calories': {'Avg': '1292', 'Max': '1292'}, '...</td>\n",
       "    </tr>\n",
       "    <tr>\n",
       "      <th>1</th>\n",
       "      <td>CASETA COCACOLA, PUENTE ARENALES  1.40km  119m...</td>\n",
       "      <td>12:40</td>\n",
       "      <td>6.7km/h</td>\n",
       "      <td>212W</td>\n",
       "      <td>{'Calories': {'Avg': '1292', 'Max': '1292'}, '...</td>\n",
       "    </tr>\n",
       "    <tr>\n",
       "      <th>2</th>\n",
       "      <td>La Catedral (hasta la U)  3.45km  410m  11.9%</td>\n",
       "      <td>35:16</td>\n",
       "      <td>5.9km/h</td>\n",
       "      <td>185W</td>\n",
       "      <td>{'Calories': {'Avg': '1292', 'Max': '1292'}, '...</td>\n",
       "    </tr>\n",
       "    <tr>\n",
       "      <th>3</th>\n",
       "      <td>Catedral Km0-0.5 - 8.3%  0.50km  42m  8.3%</td>\n",
       "      <td>3:41</td>\n",
       "      <td>8.2km/h</td>\n",
       "      <td>211W</td>\n",
       "      <td>{'Calories': {'Avg': '1292', 'Max': '1292'}, '...</td>\n",
       "    </tr>\n",
       "    <tr>\n",
       "      <th>4</th>\n",
       "      <td>La Catedral (completa)  6.45km  656m  10.0%</td>\n",
       "      <td>1:00:51</td>\n",
       "      <td>6.4km/h</td>\n",
       "      <td>187W</td>\n",
       "      <td>{'Calories': {'Avg': '1292', 'Max': '1292'}, '...</td>\n",
       "    </tr>\n",
       "    <tr>\n",
       "      <th>...</th>\n",
       "      <td>...</td>\n",
       "      <td>...</td>\n",
       "      <td>...</td>\n",
       "      <td>...</td>\n",
       "      <td>...</td>\n",
       "    </tr>\n",
       "    <tr>\n",
       "      <th>90</th>\n",
       "      <td>NaN</td>\n",
       "      <td>NaN</td>\n",
       "      <td>8:55</td>\n",
       "      <td>6.7km/h</td>\n",
       "      <td>{'Calories': {'Avg': '1292', 'Max': '1292'}, '...</td>\n",
       "    </tr>\n",
       "    <tr>\n",
       "      <th>91</th>\n",
       "      <td>NaN</td>\n",
       "      <td>NaN</td>\n",
       "      <td>8:47</td>\n",
       "      <td>6.9km/h</td>\n",
       "      <td>{'Calories': {'Avg': '1292', 'Max': '1292'}, '...</td>\n",
       "    </tr>\n",
       "    <tr>\n",
       "      <th>92</th>\n",
       "      <td>NaN</td>\n",
       "      <td>NaN</td>\n",
       "      <td>8:07</td>\n",
       "      <td>7.1km/h</td>\n",
       "      <td>{'Calories': {'Avg': '1292', 'Max': '1292'}, '...</td>\n",
       "    </tr>\n",
       "    <tr>\n",
       "      <th>93</th>\n",
       "      <td>NaN</td>\n",
       "      <td>NaN</td>\n",
       "      <td>5:29</td>\n",
       "      <td>7.9km/h</td>\n",
       "      <td>{'Calories': {'Avg': '1292', 'Max': '1292'}, '...</td>\n",
       "    </tr>\n",
       "    <tr>\n",
       "      <th>94</th>\n",
       "      <td>NaN</td>\n",
       "      <td>NaN</td>\n",
       "      <td>2:24</td>\n",
       "      <td>7.9km/h</td>\n",
       "      <td>{'Calories': {'Avg': '1292', 'Max': '1292'}, '...</td>\n",
       "    </tr>\n",
       "  </tbody>\n",
       "</table>\n",
       "<p>95 rows × 5 columns</p>\n",
       "</div>"
      ],
      "text/plain": [
       "                                                 Name     Time    Speed  \\\n",
       "0     A subir al colegio El Salado  0.11km  5m  -3.9%      40s  9.9km/h   \n",
       "1   CASETA COCACOLA, PUENTE ARENALES  1.40km  119m...    12:40  6.7km/h   \n",
       "2       La Catedral (hasta la U)  3.45km  410m  11.9%    35:16  5.9km/h   \n",
       "3          Catedral Km0-0.5 - 8.3%  0.50km  42m  8.3%     3:41  8.2km/h   \n",
       "4         La Catedral (completa)  6.45km  656m  10.0%  1:00:51  6.4km/h   \n",
       "..                                                ...      ...      ...   \n",
       "90                                                NaN      NaN     8:55   \n",
       "91                                                NaN      NaN     8:47   \n",
       "92                                                NaN      NaN     8:07   \n",
       "93                                                NaN      NaN     5:29   \n",
       "94                                                NaN      NaN     2:24   \n",
       "\n",
       "      Power                                               Info  \n",
       "0      297W  {'Calories': {'Avg': '1292', 'Max': '1292'}, '...  \n",
       "1      212W  {'Calories': {'Avg': '1292', 'Max': '1292'}, '...  \n",
       "2      185W  {'Calories': {'Avg': '1292', 'Max': '1292'}, '...  \n",
       "3      211W  {'Calories': {'Avg': '1292', 'Max': '1292'}, '...  \n",
       "4      187W  {'Calories': {'Avg': '1292', 'Max': '1292'}, '...  \n",
       "..      ...                                                ...  \n",
       "90  6.7km/h  {'Calories': {'Avg': '1292', 'Max': '1292'}, '...  \n",
       "91  6.9km/h  {'Calories': {'Avg': '1292', 'Max': '1292'}, '...  \n",
       "92  7.1km/h  {'Calories': {'Avg': '1292', 'Max': '1292'}, '...  \n",
       "93  7.9km/h  {'Calories': {'Avg': '1292', 'Max': '1292'}, '...  \n",
       "94  7.9km/h  {'Calories': {'Avg': '1292', 'Max': '1292'}, '...  \n",
       "\n",
       "[95 rows x 5 columns]"
      ]
     },
     "execution_count": 6,
     "metadata": {},
     "output_type": "execute_result"
    }
   ],
   "source": [
    "sgmt"
   ]
  },
  {
   "cell_type": "code",
   "execution_count": 7,
   "metadata": {},
   "outputs": [],
   "source": [
    "df=df.append(sgmt,sort=False).reset_index(drop=True)"
   ]
  },
  {
   "cell_type": "code",
   "execution_count": 8,
   "metadata": {},
   "outputs": [],
   "source": [
    "df['istr']=df['Info'].astype(str)"
   ]
  },
  {
   "cell_type": "code",
   "execution_count": 9,
   "metadata": {},
   "outputs": [],
   "source": [
    "df=df.drop_duplicates(['Name', 'Power', 'Speed', 'Time', 'istr']).drop('istr',axis='columns').reset_index(drop=True)"
   ]
  },
  {
   "cell_type": "code",
   "execution_count": 10,
   "metadata": {},
   "outputs": [],
   "source": [
    "df.to_json(db_file)"
   ]
  },
  {
   "cell_type": "markdown",
   "metadata": {},
   "source": [
    "### Save notebook here"
   ]
  },
  {
   "cell_type": "code",
   "execution_count": 11,
   "metadata": {},
   "outputs": [],
   "source": [
    "f=open('commit.sh','w')\n",
    "f.write('git commit -am \"{}\"\\n'.format(\n",
    "    df.iloc[-1]['Info']['name']+' '+df.iloc[-1]['Info']['date']\n",
    "))\n",
    "f.write('git push origin master')\n",
    "f.close()"
   ]
  },
  {
   "cell_type": "code",
   "execution_count": 12,
   "metadata": {},
   "outputs": [
    {
     "name": "stdout",
     "output_type": "stream",
     "text": [
      "[master 5ec05e8] Morning Ride 5:44 AM on Tuesday, January 26, 2021\n",
      " 2 files changed, 268 insertions(+), 513 deletions(-)\n",
      " rewrite Strava.ipynb (61%)\n",
      "Enumerating objects: 9, done.\n",
      "Counting objects: 100% (9/9), done.\n",
      "Delta compression using up to 8 threads\n",
      "Compressing objects: 100% (4/4), done.\n",
      "Writing objects: 100% (5/5), 3.42 KiB | 218.00 KiB/s, done.\n",
      "Total 5 (delta 2), reused 0 (delta 0)\n",
      "remote: Resolving deltas: 100% (2/2), completed with 2 local objects.\u001b[K\n",
      "To github.com:restrepo/strava.git\n",
      "   fe70e65..5ec05e8  master -> master\n"
     ]
    }
   ],
   "source": [
    "!bash commit.sh"
   ]
  },
  {
   "cell_type": "code",
   "execution_count": null,
   "metadata": {},
   "outputs": [],
   "source": []
  },
  {
   "cell_type": "code",
   "execution_count": 13,
   "metadata": {},
   "outputs": [
    {
     "name": "stdin",
     "output_type": "stream",
     "text": [
      "Close browser? \n"
     ]
    },
    {
     "ename": "WebDriverException",
     "evalue": "Message: chrome not reachable\n  (Session info: chrome=88.0.4324.96)\n  (Driver info: chromedriver=2.38.552522 (437e6fbedfa8762dec75e2c5b3ddb86763dc9dcb),platform=Linux 4.19.0-10-amd64 x86_64)\n",
     "output_type": "error",
     "traceback": [
      "\u001b[0;31m---------------------------------------------------------------------------\u001b[0m",
      "\u001b[0;31mWebDriverException\u001b[0m                        Traceback (most recent call last)",
      "\u001b[0;32m<ipython-input-13-19daadf3e503>\u001b[0m in \u001b[0;36m<module>\u001b[0;34m\u001b[0m\n\u001b[1;32m      1\u001b[0m \u001b[0;32mif\u001b[0m \u001b[0;32mnot\u001b[0m\u001b[0;34m(\u001b[0m \u001b[0minput\u001b[0m\u001b[0;34m(\u001b[0m\u001b[0;34m'Close browser?'\u001b[0m\u001b[0;34m)\u001b[0m\u001b[0;34m.\u001b[0m\u001b[0mfind\u001b[0m\u001b[0;34m(\u001b[0m\u001b[0;34m'n'\u001b[0m\u001b[0;34m)\u001b[0m\u001b[0;34m>\u001b[0m\u001b[0;34m-\u001b[0m\u001b[0;36m1\u001b[0m \u001b[0;34m)\u001b[0m\u001b[0;34m:\u001b[0m\u001b[0;34m\u001b[0m\u001b[0;34m\u001b[0m\u001b[0m\n\u001b[0;32m----> 2\u001b[0;31m     \u001b[0mbrowser\u001b[0m\u001b[0;34m.\u001b[0m\u001b[0mclose\u001b[0m\u001b[0;34m(\u001b[0m\u001b[0;34m)\u001b[0m\u001b[0;34m\u001b[0m\u001b[0;34m\u001b[0m\u001b[0m\n\u001b[0m",
      "\u001b[0;32m/usr/local/lib/python3.7/dist-packages/selenium/webdriver/remote/webdriver.py\u001b[0m in \u001b[0;36mclose\u001b[0;34m(self)\u001b[0m\n\u001b[1;32m    686\u001b[0m             \u001b[0mdriver\u001b[0m\u001b[0;34m.\u001b[0m\u001b[0mclose\u001b[0m\u001b[0;34m(\u001b[0m\u001b[0;34m)\u001b[0m\u001b[0;34m\u001b[0m\u001b[0;34m\u001b[0m\u001b[0m\n\u001b[1;32m    687\u001b[0m         \"\"\"\n\u001b[0;32m--> 688\u001b[0;31m         \u001b[0mself\u001b[0m\u001b[0;34m.\u001b[0m\u001b[0mexecute\u001b[0m\u001b[0;34m(\u001b[0m\u001b[0mCommand\u001b[0m\u001b[0;34m.\u001b[0m\u001b[0mCLOSE\u001b[0m\u001b[0;34m)\u001b[0m\u001b[0;34m\u001b[0m\u001b[0;34m\u001b[0m\u001b[0m\n\u001b[0m\u001b[1;32m    689\u001b[0m \u001b[0;34m\u001b[0m\u001b[0m\n\u001b[1;32m    690\u001b[0m     \u001b[0;32mdef\u001b[0m \u001b[0mquit\u001b[0m\u001b[0;34m(\u001b[0m\u001b[0mself\u001b[0m\u001b[0;34m)\u001b[0m\u001b[0;34m:\u001b[0m\u001b[0;34m\u001b[0m\u001b[0;34m\u001b[0m\u001b[0m\n",
      "\u001b[0;32m/usr/local/lib/python3.7/dist-packages/selenium/webdriver/remote/webdriver.py\u001b[0m in \u001b[0;36mexecute\u001b[0;34m(self, driver_command, params)\u001b[0m\n\u001b[1;32m    319\u001b[0m         \u001b[0mresponse\u001b[0m \u001b[0;34m=\u001b[0m \u001b[0mself\u001b[0m\u001b[0;34m.\u001b[0m\u001b[0mcommand_executor\u001b[0m\u001b[0;34m.\u001b[0m\u001b[0mexecute\u001b[0m\u001b[0;34m(\u001b[0m\u001b[0mdriver_command\u001b[0m\u001b[0;34m,\u001b[0m \u001b[0mparams\u001b[0m\u001b[0;34m)\u001b[0m\u001b[0;34m\u001b[0m\u001b[0;34m\u001b[0m\u001b[0m\n\u001b[1;32m    320\u001b[0m         \u001b[0;32mif\u001b[0m \u001b[0mresponse\u001b[0m\u001b[0;34m:\u001b[0m\u001b[0;34m\u001b[0m\u001b[0;34m\u001b[0m\u001b[0m\n\u001b[0;32m--> 321\u001b[0;31m             \u001b[0mself\u001b[0m\u001b[0;34m.\u001b[0m\u001b[0merror_handler\u001b[0m\u001b[0;34m.\u001b[0m\u001b[0mcheck_response\u001b[0m\u001b[0;34m(\u001b[0m\u001b[0mresponse\u001b[0m\u001b[0;34m)\u001b[0m\u001b[0;34m\u001b[0m\u001b[0;34m\u001b[0m\u001b[0m\n\u001b[0m\u001b[1;32m    322\u001b[0m             response['value'] = self._unwrap_value(\n\u001b[1;32m    323\u001b[0m                 response.get('value', None))\n",
      "\u001b[0;32m/usr/local/lib/python3.7/dist-packages/selenium/webdriver/remote/errorhandler.py\u001b[0m in \u001b[0;36mcheck_response\u001b[0;34m(self, response)\u001b[0m\n\u001b[1;32m    240\u001b[0m                 \u001b[0malert_text\u001b[0m \u001b[0;34m=\u001b[0m \u001b[0mvalue\u001b[0m\u001b[0;34m[\u001b[0m\u001b[0;34m'alert'\u001b[0m\u001b[0;34m]\u001b[0m\u001b[0;34m.\u001b[0m\u001b[0mget\u001b[0m\u001b[0;34m(\u001b[0m\u001b[0;34m'text'\u001b[0m\u001b[0;34m)\u001b[0m\u001b[0;34m\u001b[0m\u001b[0;34m\u001b[0m\u001b[0m\n\u001b[1;32m    241\u001b[0m             \u001b[0;32mraise\u001b[0m \u001b[0mexception_class\u001b[0m\u001b[0;34m(\u001b[0m\u001b[0mmessage\u001b[0m\u001b[0;34m,\u001b[0m \u001b[0mscreen\u001b[0m\u001b[0;34m,\u001b[0m \u001b[0mstacktrace\u001b[0m\u001b[0;34m,\u001b[0m \u001b[0malert_text\u001b[0m\u001b[0;34m)\u001b[0m\u001b[0;34m\u001b[0m\u001b[0;34m\u001b[0m\u001b[0m\n\u001b[0;32m--> 242\u001b[0;31m         \u001b[0;32mraise\u001b[0m \u001b[0mexception_class\u001b[0m\u001b[0;34m(\u001b[0m\u001b[0mmessage\u001b[0m\u001b[0;34m,\u001b[0m \u001b[0mscreen\u001b[0m\u001b[0;34m,\u001b[0m \u001b[0mstacktrace\u001b[0m\u001b[0;34m)\u001b[0m\u001b[0;34m\u001b[0m\u001b[0;34m\u001b[0m\u001b[0m\n\u001b[0m\u001b[1;32m    243\u001b[0m \u001b[0;34m\u001b[0m\u001b[0m\n\u001b[1;32m    244\u001b[0m     \u001b[0;32mdef\u001b[0m \u001b[0m_value_or_default\u001b[0m\u001b[0;34m(\u001b[0m\u001b[0mself\u001b[0m\u001b[0;34m,\u001b[0m \u001b[0mobj\u001b[0m\u001b[0;34m,\u001b[0m \u001b[0mkey\u001b[0m\u001b[0;34m,\u001b[0m \u001b[0mdefault\u001b[0m\u001b[0;34m)\u001b[0m\u001b[0;34m:\u001b[0m\u001b[0;34m\u001b[0m\u001b[0;34m\u001b[0m\u001b[0m\n",
      "\u001b[0;31mWebDriverException\u001b[0m: Message: chrome not reachable\n  (Session info: chrome=88.0.4324.96)\n  (Driver info: chromedriver=2.38.552522 (437e6fbedfa8762dec75e2c5b3ddb86763dc9dcb),platform=Linux 4.19.0-10-amd64 x86_64)\n"
     ]
    }
   ],
   "source": [
    "if not( input('Close browser?').find('n')>-1 ):\n",
    "    browser.close()"
   ]
  },
  {
   "cell_type": "code",
   "execution_count": null,
   "metadata": {},
   "outputs": [],
   "source": []
  }
 ],
 "metadata": {
  "kernelspec": {
   "display_name": "Python 3",
   "language": "python",
   "name": "python3"
  },
  "language_info": {
   "codemirror_mode": {
    "name": "ipython",
    "version": 3
   },
   "file_extension": ".py",
   "mimetype": "text/x-python",
   "name": "python",
   "nbconvert_exporter": "python",
   "pygments_lexer": "ipython3",
   "version": "3.7.3"
  }
 },
 "nbformat": 4,
 "nbformat_minor": 4
}
