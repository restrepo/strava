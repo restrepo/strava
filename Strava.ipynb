{
 "cells": [
  {
   "cell_type": "markdown",
   "metadata": {},
   "source": [
    "# Strava segment data\n",
    "\n",
    "Choose some activity ID or the LAST one if `LAST=True`"
   ]
  },
  {
   "cell_type": "code",
   "execution_count": 1,
   "metadata": {},
   "outputs": [],
   "source": [
    "activity=3158056389\n",
    "LAST=True"
   ]
  },
  {
   "cell_type": "code",
   "execution_count": 2,
   "metadata": {},
   "outputs": [],
   "source": [
    "import helium\n",
    "import pandas as pd\n",
    "import os\n",
    "import time\n",
    "def metadata(**kwargs):\n",
    "    return kwargs\n",
    "db_dir='db'\n",
    "db_file='{}/strava.json'.format(db_dir)"
   ]
  },
  {
   "cell_type": "code",
   "execution_count": 3,
   "metadata": {},
   "outputs": [],
   "source": [
    "os.makedirs(db_dir,exist_ok=True)\n",
    "\n",
    "if os.path.isfile(db_file):\n",
    "    df=pd.read_json(db_file)\n",
    "else:\n",
    "    df=pd.DataFrame()\n",
    "\n",
    "browser=helium.start_chrome(\"https://www.strava.com/login\")\n",
    "\n",
    "helium.write('diego.restrepo@gmail.com',into='Your Email')\n",
    "\n",
    "helium.write('opoqdh11',into='Password')\n",
    "\n",
    "helium.click('Log In')\n",
    "\n",
    "time.sleep(10)\n",
    "browser.maximize_window()\n",
    "\n",
    "if LAST:\n",
    "    #Required to activate card-section below\n",
    "    lt=[t for t in browser.find_elements_by_class_name('card-section') \n",
    "       if t.text.find('Latest Activity')>-1][0]\n",
    "\n",
    "    lt.find_element_by_tag_name('a').click()\n",
    "\n",
    "else:\n",
    "    browser.get('https://www.strava.com/activities/{}'.format(activity))\n",
    "# Web page with latest activity\n",
    "\n",
    "# General info\n",
    "\n",
    "time.sleep(10)\n",
    "dt=browser.find_element_by_class_name('details')\n",
    "\n",
    "date=dt.find_element_by_tag_name('time').text\n",
    "\n",
    "name=dt.find_element_by_tag_name('h1').text\n",
    "\n",
    "kk=browser.find_elements_by_tag_name(\"ul\")\n",
    "\n",
    "q=[ k for k in kk if k.text.find('\\nDistance')>-1][0]\n",
    "\n",
    "distance,time,elevation=(t.text for t in q.find_elements_by_tag_name('strong') )\n",
    "\n",
    "q=[ k for k in kk if k.text.find('\\nEstimated Avg Power')>-1][0]\n",
    "\n",
    "power,energy=(t.text for t in q.find_elements_by_tag_name('strong') )\n",
    "\n",
    "# Load tables\n",
    "\n",
    "HIDDEN=True\n",
    "try:\n",
    "    browser.find_element_by_id('show-hidden-efforts').click()\n",
    "except:\n",
    "    HIDDEN=False\n",
    "    pass\n",
    "\n",
    "html=browser.page_source\n",
    "\n",
    "ll=pd.read_html(html)\n",
    "\n",
    "# General info table\n",
    "\n",
    "mtdt=ll[0].groupby('Unnamed: 0').sum().transpose().to_dict()\n",
    "\n",
    "mtdt.update(  metadata(date=date,name=name,distance=distance,time=time,\n",
    "         elevation=elevation,power=elevation,energy=energy)\n",
    "   )\n",
    "\n",
    "#Fix time\n",
    "import time\n",
    "\n",
    "# Segments\n",
    "\n",
    "sgmt=ll[1][['Name','Time','Speed','Power']].reset_index(drop=True)\n",
    "\n",
    "if HIDDEN:\n",
    "    sgmt=sgmt.append( ll[2].rename({2:'Name',4:'Time',5:'Speed',6:'Power'},\n",
    "            axis='columns')[['Name','Time','Speed','Power']] \n",
    "           ).reset_index(drop=True)\n",
    "\n",
    "#Add general info\n",
    "sgmt['Info']=''\n",
    "\n",
    "sgmt['Info'] = [ mtdt  for i in sgmt.index]"
   ]
  },
  {
   "cell_type": "code",
   "execution_count": 4,
   "metadata": {},
   "outputs": [
    {
     "data": {
      "text/html": [
       "<div>\n",
       "<style scoped>\n",
       "    .dataframe tbody tr th:only-of-type {\n",
       "        vertical-align: middle;\n",
       "    }\n",
       "\n",
       "    .dataframe tbody tr th {\n",
       "        vertical-align: top;\n",
       "    }\n",
       "\n",
       "    .dataframe thead th {\n",
       "        text-align: right;\n",
       "    }\n",
       "</style>\n",
       "<table border=\"1\" class=\"dataframe\">\n",
       "  <thead>\n",
       "    <tr style=\"text-align: right;\">\n",
       "      <th></th>\n",
       "      <th>Name</th>\n",
       "      <th>Time</th>\n",
       "      <th>Speed</th>\n",
       "      <th>Power</th>\n",
       "      <th>Info</th>\n",
       "    </tr>\n",
       "  </thead>\n",
       "  <tbody>\n",
       "    <tr>\n",
       "      <th>0</th>\n",
       "      <td>Subida desde la glorieta sur america  1.34km  ...</td>\n",
       "      <td>9:08</td>\n",
       "      <td>8.9km/h</td>\n",
       "      <td>206W</td>\n",
       "      <td>{'Elapsed Time': {'Avg': '53:13', 'Max': '53:1...</td>\n",
       "    </tr>\n",
       "    <tr>\n",
       "      <th>1</th>\n",
       "      <td>Loma Mall Suramerica  0.31km  17m  4%</td>\n",
       "      <td>1:43</td>\n",
       "      <td>11.0km/h</td>\n",
       "      <td>175W</td>\n",
       "      <td>{'Elapsed Time': {'Avg': '53:13', 'Max': '53:1...</td>\n",
       "    </tr>\n",
       "    <tr>\n",
       "      <th>2</th>\n",
       "      <td>Variante a Sabaneta  1.91km  127m  -4%</td>\n",
       "      <td>7:24</td>\n",
       "      <td>15.5km/h</td>\n",
       "      <td>141W</td>\n",
       "      <td>{'Elapsed Time': {'Avg': '53:13', 'Max': '53:1...</td>\n",
       "    </tr>\n",
       "    <tr>\n",
       "      <th>3</th>\n",
       "      <td>LOMA LINDA SABANETA  0.46km  82m  18%</td>\n",
       "      <td>6:51</td>\n",
       "      <td>4.1km/h</td>\n",
       "      <td>249W</td>\n",
       "      <td>{'Elapsed Time': {'Avg': '53:13', 'Max': '53:1...</td>\n",
       "    </tr>\n",
       "    <tr>\n",
       "      <th>4</th>\n",
       "      <td>Glorieta SurA Via vieja la estrella  1.30km  6...</td>\n",
       "      <td>9:01</td>\n",
       "      <td>8.7km/h</td>\n",
       "      <td>206W</td>\n",
       "      <td>{'Elapsed Time': {'Avg': '53:13', 'Max': '53:1...</td>\n",
       "    </tr>\n",
       "    <tr>\n",
       "      <th>5</th>\n",
       "      <td>Colegio Londres - Bajando Pan de Azucar  1.38k...</td>\n",
       "      <td>5:23</td>\n",
       "      <td>15.4km/h</td>\n",
       "      <td>151W</td>\n",
       "      <td>{'Elapsed Time': {'Avg': '53:13', 'Max': '53:1...</td>\n",
       "    </tr>\n",
       "    <tr>\n",
       "      <th>6</th>\n",
       "      <td>Loma linda, detrás del antiguo principito  0.4...</td>\n",
       "      <td>6:55</td>\n",
       "      <td>4.0km/h</td>\n",
       "      <td>247W</td>\n",
       "      <td>{'Elapsed Time': {'Avg': '53:13', 'Max': '53:1...</td>\n",
       "    </tr>\n",
       "  </tbody>\n",
       "</table>\n",
       "</div>"
      ],
      "text/plain": [
       "                                                Name  Time     Speed Power  \\\n",
       "0  Subida desde la glorieta sur america  1.34km  ...  9:08   8.9km/h  206W   \n",
       "1              Loma Mall Suramerica  0.31km  17m  4%  1:43  11.0km/h  175W   \n",
       "2             Variante a Sabaneta  1.91km  127m  -4%  7:24  15.5km/h  141W   \n",
       "3              LOMA LINDA SABANETA  0.46km  82m  18%  6:51   4.1km/h  249W   \n",
       "4  Glorieta SurA Via vieja la estrella  1.30km  6...  9:01   8.7km/h  206W   \n",
       "5  Colegio Londres - Bajando Pan de Azucar  1.38k...  5:23  15.4km/h  151W   \n",
       "6  Loma linda, detrás del antiguo principito  0.4...  6:55   4.0km/h  247W   \n",
       "\n",
       "                                                Info  \n",
       "0  {'Elapsed Time': {'Avg': '53:13', 'Max': '53:1...  \n",
       "1  {'Elapsed Time': {'Avg': '53:13', 'Max': '53:1...  \n",
       "2  {'Elapsed Time': {'Avg': '53:13', 'Max': '53:1...  \n",
       "3  {'Elapsed Time': {'Avg': '53:13', 'Max': '53:1...  \n",
       "4  {'Elapsed Time': {'Avg': '53:13', 'Max': '53:1...  \n",
       "5  {'Elapsed Time': {'Avg': '53:13', 'Max': '53:1...  \n",
       "6  {'Elapsed Time': {'Avg': '53:13', 'Max': '53:1...  "
      ]
     },
     "execution_count": 4,
     "metadata": {},
     "output_type": "execute_result"
    }
   ],
   "source": [
    "sgmt"
   ]
  },
  {
   "cell_type": "code",
   "execution_count": 5,
   "metadata": {},
   "outputs": [],
   "source": [
    "df=df.append(sgmt,sort=False).reset_index(drop=True)"
   ]
  },
  {
   "cell_type": "code",
   "execution_count": 6,
   "metadata": {},
   "outputs": [],
   "source": [
    "df.to_json(db_file)"
   ]
  },
  {
   "cell_type": "markdown",
   "metadata": {},
   "source": [
    "### Save notebook here"
   ]
  },
  {
   "cell_type": "code",
   "execution_count": 10,
   "metadata": {},
   "outputs": [],
   "source": [
    "f=open('commit.sh','w')\n",
    "f.write('git commit -am \"{}\"\\n'.format(\n",
    "    df.iloc[-1]['Info']['name']+' '+df.iloc[-1]['Info']['date']\n",
    "))\n",
    "f.write('git push origin master')\n",
    "f.close()"
   ]
  },
  {
   "cell_type": "code",
   "execution_count": 8,
   "metadata": {},
   "outputs": [
    {
     "name": "stdout",
     "output_type": "stream",
     "text": [
      "[master 444f8db] Morning Ride 9:18 AM on Sunday, June 21, 2020\n",
      " 2 files changed, 67 insertions(+), 27 deletions(-)\n",
      " rewrite db/strava.json (99%)\n",
      "Counting objects: 5, done.\n",
      "Delta compression using up to 8 threads.\n",
      "Compressing objects: 100% (4/4), done.\n",
      "Writing objects: 100% (5/5), 4.98 KiB | 0 bytes/s, done.\n",
      "Total 5 (delta 2), reused 0 (delta 0)\n",
      "remote: Resolving deltas: 100% (2/2), completed with 2 local objects.\u001b[K\n",
      "To github.com:restrepo/strava.git\n",
      "   136a4f6..444f8db  master -> master\n"
     ]
    }
   ],
   "source": [
    "!bash commit.sh"
   ]
  },
  {
   "cell_type": "code",
   "execution_count": 9,
   "metadata": {},
   "outputs": [
    {
     "name": "stdin",
     "output_type": "stream",
     "text": [
      "Close browser? \n"
     ]
    }
   ],
   "source": [
    "if not( input('Close browser?').find('n')>-1 ):\n",
    "    browser.close()"
   ]
  },
  {
   "cell_type": "code",
   "execution_count": null,
   "metadata": {},
   "outputs": [],
   "source": []
  }
 ],
 "metadata": {
  "kernelspec": {
   "display_name": "Python 3",
   "language": "python",
   "name": "python3"
  },
  "language_info": {
   "codemirror_mode": {
    "name": "ipython",
    "version": 3
   },
   "file_extension": ".py",
   "mimetype": "text/x-python",
   "name": "python",
   "nbconvert_exporter": "python",
   "pygments_lexer": "ipython3",
   "version": "3.5.3"
  }
 },
 "nbformat": 4,
 "nbformat_minor": 4
}
