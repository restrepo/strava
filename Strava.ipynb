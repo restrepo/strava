{
 "cells": [
  {
   "cell_type": "markdown",
   "metadata": {},
   "source": [
    "# Strava segment data\n",
    "\n",
    "Choose some activity ID or the LAST one if `LAST=True`"
   ]
  },
  {
   "cell_type": "code",
   "execution_count": 1,
   "metadata": {},
   "outputs": [],
   "source": [
    "activity=4439026712#4310029237#4088494919\n",
    "date='December 6, 2020'\n",
    "LAST=True"
   ]
  },
  {
   "cell_type": "code",
   "execution_count": 2,
   "metadata": {},
   "outputs": [],
   "source": [
    "import helium\n",
    "import pandas as pd\n",
    "import os\n",
    "import time\n",
    "import sys\n",
    "def metadata(**kwargs):\n",
    "    return kwargs\n",
    "db_dir='db'\n",
    "db_file='{}/strava.json'.format(db_dir)"
   ]
  },
  {
   "cell_type": "code",
   "execution_count": 3,
   "metadata": {},
   "outputs": [],
   "source": [
    "bkp=pd.read_json(db_file)\n",
    "if not LAST and not bkp[bkp.Info.astype(str).str.contains(date)].empty:\n",
    "    sys.exit('Check if already exists in bkp')"
   ]
  },
  {
   "cell_type": "code",
   "execution_count": null,
   "metadata": {},
   "outputs": [],
   "source": [
    "os.makedirs(db_dir,exist_ok=True)\n",
    "\n",
    "if os.path.isfile(db_file):\n",
    "    df=pd.read_json(db_file)\n",
    "else:\n",
    "    df=pd.DataFrame()\n",
    "\n",
    "browser=helium.start_chrome(\"https://www.strava.com/login\")\n",
    "\n",
    "helium.write('diego.restrepo@gmail.com',into='Your Email')\n",
    "\n",
    "helium.write('opoqdh11',into='Password')\n",
    "\n",
    "helium.click('Log In')\n",
    "\n",
    "time.sleep(10)\n",
    "browser.maximize_window()\n",
    "\n",
    "if LAST:\n",
    "    #Required to activate card-section below\n",
    "    lt=[t for t in browser.find_elements_by_class_name('card-section') \n",
    "       if t.text.find('Latest Activity')>-1][0]\n",
    "\n",
    "    lt.find_element_by_tag_name('a').click()\n",
    "\n",
    "else:\n",
    "    browser.get('https://www.strava.com/activities/{}'.format(activity))\n",
    "# Web page with latest activity\n",
    "\n",
    "# General info\n",
    "\n",
    "time.sleep(10)\n",
    "dt=browser.find_element_by_class_name('details')\n",
    "\n",
    "date=dt.find_element_by_tag_name('time').text\n",
    "\n",
    "name=dt.find_element_by_tag_name('h1').text\n",
    "\n",
    "kk=browser.find_elements_by_tag_name(\"ul\")\n",
    "\n",
    "q=[ k for k in kk if k.text.find('\\nDistance')>-1][0]\n",
    "\n",
    "distance,time,elevation=(t.text for t in q.find_elements_by_tag_name('strong') )\n",
    "\n",
    "q=[ k for k in kk if k.text.find('\\nEstimated Avg Power')>-1][0]\n",
    "\n",
    "power,energy=(t.text for t in q.find_elements_by_tag_name('strong') )\n",
    "\n",
    "# Load tables\n",
    "\n",
    "HIDDEN=True\n",
    "try:\n",
    "    browser.find_element_by_id('show-hidden-efforts').click()\n",
    "except:\n",
    "    HIDDEN=False\n",
    "    pass\n",
    "\n",
    "html=browser.page_source\n",
    "\n",
    "ll=pd.read_html(html)\n",
    "\n",
    "# General info table\n",
    "\n",
    "mtdt=ll[0].groupby('Unnamed: 0').sum().transpose().to_dict()\n",
    "\n",
    "mtdt.update(  metadata(date=date,name=name,distance=distance,time=time,\n",
    "         elevation=elevation,power=elevation,energy=energy)\n",
    "   )\n",
    "\n",
    "#Fix time\n",
    "import time\n",
    "\n",
    "# Segments\n",
    "\n",
    "sgmt=ll[1][['Name','Time','Speed','Power']].reset_index(drop=True)\n",
    "\n",
    "if HIDDEN:\n",
    "    sgmt=sgmt.append( ll[2].rename({2:'Name',4:'Time',5:'Speed',6:'Power'},\n",
    "            axis='columns')[['Name','Time','Speed','Power']] \n",
    "           ).reset_index(drop=True)\n",
    "\n",
    "#Add general info\n",
    "sgmt['Info']=''\n",
    "\n",
    "sgmt['Info'] = [ mtdt  for i in sgmt.index]"
   ]
  },
  {
   "cell_type": "code",
   "execution_count": null,
   "metadata": {},
   "outputs": [],
   "source": []
  },
  {
   "cell_type": "code",
   "execution_count": null,
   "metadata": {},
   "outputs": [],
   "source": [
    "ll[0]"
   ]
  },
  {
   "cell_type": "code",
   "execution_count": null,
   "metadata": {},
   "outputs": [],
   "source": [
    "sgmt"
   ]
  },
  {
   "cell_type": "code",
   "execution_count": null,
   "metadata": {},
   "outputs": [],
   "source": [
    "df=df.append(sgmt,sort=False).reset_index(drop=True)"
   ]
  },
  {
   "cell_type": "code",
   "execution_count": null,
   "metadata": {},
   "outputs": [],
   "source": [
    "df['istr']=df['Info'].astype(str)"
   ]
  },
  {
   "cell_type": "code",
   "execution_count": null,
   "metadata": {},
   "outputs": [],
   "source": [
    "df=df.drop_duplicates(['Name', 'Power', 'Speed', 'Time', 'istr']).drop('istr',axis='columns').reset_index(drop=True)"
   ]
  },
  {
   "cell_type": "code",
   "execution_count": null,
   "metadata": {},
   "outputs": [],
   "source": [
    "df.to_json(db_file)"
   ]
  },
  {
   "cell_type": "markdown",
   "metadata": {},
   "source": [
    "### Save notebook here"
   ]
  },
  {
   "cell_type": "code",
   "execution_count": null,
   "metadata": {},
   "outputs": [],
   "source": [
    "f=open('commit.sh','w')\n",
    "f.write('git commit -am \"{}\"\\n'.format(\n",
    "    df.iloc[-1]['Info']['name']+' '+df.iloc[-1]['Info']['date']\n",
    "))\n",
    "f.write('git push origin master')\n",
    "f.close()"
   ]
  },
  {
   "cell_type": "code",
   "execution_count": null,
   "metadata": {},
   "outputs": [],
   "source": [
    "!bash commit.sh"
   ]
  },
  {
   "cell_type": "code",
   "execution_count": null,
   "metadata": {},
   "outputs": [],
   "source": []
  },
  {
   "cell_type": "code",
   "execution_count": null,
   "metadata": {},
   "outputs": [],
   "source": [
    "if not( input('Close browser?').find('n')>-1 ):\n",
    "    browser.close()"
   ]
  },
  {
   "cell_type": "code",
   "execution_count": null,
   "metadata": {},
   "outputs": [],
   "source": []
  }
 ],
 "metadata": {
  "kernelspec": {
   "display_name": "Python 3",
   "language": "python",
   "name": "python3"
  },
  "language_info": {
   "codemirror_mode": {
    "name": "ipython",
    "version": 3
   },
   "file_extension": ".py",
   "mimetype": "text/x-python",
   "name": "python",
   "nbconvert_exporter": "python",
   "pygments_lexer": "ipython3",
   "version": "3.7.3"
  }
 },
 "nbformat": 4,
 "nbformat_minor": 4
}
