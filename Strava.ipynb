{
 "cells": [
  {
   "cell_type": "markdown",
   "metadata": {},
   "source": [
    "# Strava segment data\n",
    "\n",
    "Choose some activity ID or the LAST one if `LAST=True`"
   ]
  },
  {
   "cell_type": "code",
   "execution_count": 1,
   "metadata": {},
   "outputs": [],
   "source": [
    "activity=3158056389\n",
    "LAST=True"
   ]
  },
  {
   "cell_type": "code",
   "execution_count": 2,
   "metadata": {},
   "outputs": [],
   "source": [
    "import helium\n",
    "import pandas as pd\n",
    "import os\n",
    "import time\n",
    "def metadata(**kwargs):\n",
    "    return kwargs\n",
    "db_dir='db'\n",
    "db_file='{}/strava.json'.format(db_dir)"
   ]
  },
  {
   "cell_type": "code",
   "execution_count": 3,
   "metadata": {},
   "outputs": [],
   "source": [
    "os.makedirs(db_dir,exist_ok=True)\n",
    "\n",
    "if os.path.isfile(db_file):\n",
    "    df=pd.read_json(db_file)\n",
    "else:\n",
    "    df=pd.DataFrame()\n",
    "\n",
    "browser=helium.start_chrome(\"https://www.strava.com/login\")\n",
    "\n",
    "helium.write('diego.restrepo@gmail.com',into='Your Email')\n",
    "\n",
    "helium.write('opoqdh11',into='Password')\n",
    "\n",
    "helium.click('Log In')\n",
    "\n",
    "time.sleep(10)\n",
    "browser.maximize_window()\n",
    "\n",
    "if LAST:\n",
    "    #Required to activate card-section below\n",
    "    lt=[t for t in browser.find_elements_by_class_name('card-section') \n",
    "       if t.text.find('Latest Activity')>-1][0]\n",
    "\n",
    "    lt.find_element_by_tag_name('a').click()\n",
    "\n",
    "else:\n",
    "    browser.get('https://www.strava.com/activities/{}'.format(activity))\n",
    "# Web page with latest activity\n",
    "\n",
    "# General info\n",
    "\n",
    "time.sleep(10)\n",
    "dt=browser.find_element_by_class_name('details')\n",
    "\n",
    "date=dt.find_element_by_tag_name('time').text\n",
    "\n",
    "name=dt.find_element_by_tag_name('h1').text\n",
    "\n",
    "kk=browser.find_elements_by_tag_name(\"ul\")\n",
    "\n",
    "q=[ k for k in kk if k.text.find('\\nDistance')>-1][0]\n",
    "\n",
    "distance,time,elevation=(t.text for t in q.find_elements_by_tag_name('strong') )\n",
    "\n",
    "q=[ k for k in kk if k.text.find('\\nEstimated Avg Power')>-1][0]\n",
    "\n",
    "power,energy=(t.text for t in q.find_elements_by_tag_name('strong') )\n",
    "\n",
    "# Load tables\n",
    "\n",
    "HIDDEN=True\n",
    "try:\n",
    "    browser.find_element_by_id('show-hidden-efforts').click()\n",
    "except:\n",
    "    HIDDEN=False\n",
    "    pass\n",
    "\n",
    "html=browser.page_source\n",
    "\n",
    "ll=pd.read_html(html)\n",
    "\n",
    "# General info table\n",
    "\n",
    "mtdt=ll[0].groupby('Unnamed: 0').sum().transpose().to_dict()\n",
    "\n",
    "mtdt.update(  metadata(date=date,name=name,distance=distance,time=time,\n",
    "         elevation=elevation,power=elevation,energy=energy)\n",
    "   )\n",
    "\n",
    "#Fix time\n",
    "import time\n",
    "\n",
    "# Segments\n",
    "\n",
    "sgmt=ll[1][['Name','Time','Speed','Power']].reset_index(drop=True)\n",
    "\n",
    "if HIDDEN:\n",
    "    sgmt=sgmt.append( ll[2].rename({2:'Name',4:'Time',5:'Speed',6:'Power'},\n",
    "            axis='columns')[['Name','Time','Speed','Power']] \n",
    "           ).reset_index(drop=True)\n",
    "\n",
    "#Add general info\n",
    "sgmt['Info']=''\n",
    "\n",
    "sgmt['Info'] = [ mtdt  for i in sgmt.index]"
   ]
  },
  {
   "cell_type": "code",
   "execution_count": 4,
   "metadata": {},
   "outputs": [
    {
     "data": {
      "text/html": [
       "<div>\n",
       "<style scoped>\n",
       "    .dataframe tbody tr th:only-of-type {\n",
       "        vertical-align: middle;\n",
       "    }\n",
       "\n",
       "    .dataframe tbody tr th {\n",
       "        vertical-align: top;\n",
       "    }\n",
       "\n",
       "    .dataframe thead th {\n",
       "        text-align: right;\n",
       "    }\n",
       "</style>\n",
       "<table border=\"1\" class=\"dataframe\">\n",
       "  <thead>\n",
       "    <tr style=\"text-align: right;\">\n",
       "      <th></th>\n",
       "      <th>Name</th>\n",
       "      <th>Time</th>\n",
       "      <th>Speed</th>\n",
       "      <th>Power</th>\n",
       "      <th>Info</th>\n",
       "    </tr>\n",
       "  </thead>\n",
       "  <tbody>\n",
       "    <tr>\n",
       "      <th>0</th>\n",
       "      <td>Saferbo - Sofasa  4.56km  78m  -2%</td>\n",
       "      <td>6:51</td>\n",
       "      <td>40.0km/h</td>\n",
       "      <td>367W</td>\n",
       "      <td>{'Calories': {'Avg': '858', 'Max': '858'}, 'El...</td>\n",
       "    </tr>\n",
       "    <tr>\n",
       "      <th>1</th>\n",
       "      <td>Mayorca - Pandequeso  1.82km  19m  -1%</td>\n",
       "      <td>3:33</td>\n",
       "      <td>30.9km/h</td>\n",
       "      <td>300W</td>\n",
       "      <td>{'Calories': {'Avg': '858', 'Max': '858'}, 'El...</td>\n",
       "    </tr>\n",
       "    <tr>\n",
       "      <th>2</th>\n",
       "      <td>Peldar - Mayorca (Envigado)  1.63km  19m  1%</td>\n",
       "      <td>4:28</td>\n",
       "      <td>21.9km/h</td>\n",
       "      <td>271W</td>\n",
       "      <td>{'Calories': {'Avg': '858', 'Max': '858'}, 'El...</td>\n",
       "    </tr>\n",
       "    <tr>\n",
       "      <th>3</th>\n",
       "      <td>Semáforo Sofasa - Semáforo Kia  0.78km  8m  1%</td>\n",
       "      <td>2:05</td>\n",
       "      <td>22.7km/h</td>\n",
       "      <td>293W</td>\n",
       "      <td>{'Calories': {'Avg': '858', 'Max': '858'}, 'El...</td>\n",
       "    </tr>\n",
       "    <tr>\n",
       "      <th>4</th>\n",
       "      <td>Semáforo Kia - Bomba Esso  0.63km  10m  2%</td>\n",
       "      <td>1:46</td>\n",
       "      <td>21.5km/h</td>\n",
       "      <td>262W</td>\n",
       "      <td>{'Calories': {'Avg': '858', 'Max': '858'}, 'El...</td>\n",
       "    </tr>\n",
       "    <tr>\n",
       "      <th>5</th>\n",
       "      <td>Glorieta Mayorca - Bomba Terpel  0.75km  8m  1%</td>\n",
       "      <td>2:26</td>\n",
       "      <td>18.6km/h</td>\n",
       "      <td>211W</td>\n",
       "      <td>{'Calories': {'Avg': '858', 'Max': '858'}, 'El...</td>\n",
       "    </tr>\n",
       "    <tr>\n",
       "      <th>6</th>\n",
       "      <td>semaforo Mayorca- Semaforo zona Norte 1  0.46k...</td>\n",
       "      <td>1:20</td>\n",
       "      <td>20.9km/h</td>\n",
       "      <td>228W</td>\n",
       "      <td>{'Calories': {'Avg': '858', 'Max': '858'}, 'El...</td>\n",
       "    </tr>\n",
       "    <tr>\n",
       "      <th>7</th>\n",
       "      <td>Semaforo zona Norte 2 - Semaforo cruce  0.37km...</td>\n",
       "      <td>1:02</td>\n",
       "      <td>21.6km/h</td>\n",
       "      <td>250W</td>\n",
       "      <td>{'Calories': {'Avg': '858', 'Max': '858'}, 'El...</td>\n",
       "    </tr>\n",
       "    <tr>\n",
       "      <th>8</th>\n",
       "      <td>Loma Colegio Adelaida Correa  0.60km  96m  15%</td>\n",
       "      <td>8:01</td>\n",
       "      <td>4.5km/h</td>\n",
       "      <td>184W</td>\n",
       "      <td>{'Calories': {'Avg': '858', 'Max': '858'}, 'El...</td>\n",
       "    </tr>\n",
       "    <tr>\n",
       "      <th>9</th>\n",
       "      <td>Regional Estrella - Envigado  4.86km  79m  -2%</td>\n",
       "      <td>7:29</td>\n",
       "      <td>39.0km/h</td>\n",
       "      <td>359W</td>\n",
       "      <td>{'Calories': {'Avg': '858', 'Max': '858'}, 'El...</td>\n",
       "    </tr>\n",
       "    <tr>\n",
       "      <th>10</th>\n",
       "      <td>Exito Envigado - Glorieta Mayorca  1.68km  20m...</td>\n",
       "      <td>4:32</td>\n",
       "      <td>22.2km/h</td>\n",
       "      <td>270W</td>\n",
       "      <td>{'Calories': {'Avg': '858', 'Max': '858'}, 'El...</td>\n",
       "    </tr>\n",
       "  </tbody>\n",
       "</table>\n",
       "</div>"
      ],
      "text/plain": [
       "                                                 Name  Time     Speed Power  \\\n",
       "0                  Saferbo - Sofasa  4.56km  78m  -2%  6:51  40.0km/h  367W   \n",
       "1              Mayorca - Pandequeso  1.82km  19m  -1%  3:33  30.9km/h  300W   \n",
       "2        Peldar - Mayorca (Envigado)  1.63km  19m  1%  4:28  21.9km/h  271W   \n",
       "3      Semáforo Sofasa - Semáforo Kia  0.78km  8m  1%  2:05  22.7km/h  293W   \n",
       "4          Semáforo Kia - Bomba Esso  0.63km  10m  2%  1:46  21.5km/h  262W   \n",
       "5     Glorieta Mayorca - Bomba Terpel  0.75km  8m  1%  2:26  18.6km/h  211W   \n",
       "6   semaforo Mayorca- Semaforo zona Norte 1  0.46k...  1:20  20.9km/h  228W   \n",
       "7   Semaforo zona Norte 2 - Semaforo cruce  0.37km...  1:02  21.6km/h  250W   \n",
       "8      Loma Colegio Adelaida Correa  0.60km  96m  15%  8:01   4.5km/h  184W   \n",
       "9      Regional Estrella - Envigado  4.86km  79m  -2%  7:29  39.0km/h  359W   \n",
       "10  Exito Envigado - Glorieta Mayorca  1.68km  20m...  4:32  22.2km/h  270W   \n",
       "\n",
       "                                                 Info  \n",
       "0   {'Calories': {'Avg': '858', 'Max': '858'}, 'El...  \n",
       "1   {'Calories': {'Avg': '858', 'Max': '858'}, 'El...  \n",
       "2   {'Calories': {'Avg': '858', 'Max': '858'}, 'El...  \n",
       "3   {'Calories': {'Avg': '858', 'Max': '858'}, 'El...  \n",
       "4   {'Calories': {'Avg': '858', 'Max': '858'}, 'El...  \n",
       "5   {'Calories': {'Avg': '858', 'Max': '858'}, 'El...  \n",
       "6   {'Calories': {'Avg': '858', 'Max': '858'}, 'El...  \n",
       "7   {'Calories': {'Avg': '858', 'Max': '858'}, 'El...  \n",
       "8   {'Calories': {'Avg': '858', 'Max': '858'}, 'El...  \n",
       "9   {'Calories': {'Avg': '858', 'Max': '858'}, 'El...  \n",
       "10  {'Calories': {'Avg': '858', 'Max': '858'}, 'El...  "
      ]
     },
     "execution_count": 4,
     "metadata": {},
     "output_type": "execute_result"
    }
   ],
   "source": [
    "sgmt"
   ]
  },
  {
   "cell_type": "code",
   "execution_count": 5,
   "metadata": {},
   "outputs": [],
   "source": [
    "df=df.append(sgmt,sort=False).reset_index(drop=True)"
   ]
  },
  {
   "cell_type": "code",
   "execution_count": 6,
   "metadata": {},
   "outputs": [],
   "source": [
    "df.to_json(db_file)"
   ]
  },
  {
   "cell_type": "markdown",
   "metadata": {},
   "source": [
    "### Save notebook here"
   ]
  },
  {
   "cell_type": "code",
   "execution_count": 7,
   "metadata": {},
   "outputs": [],
   "source": [
    "f=open('commit.sh','w')\n",
    "f.write('git commit -am \"{}\"\\n'.format(\n",
    "    df.iloc[-1]['Info']['name']+' '+df.iloc[-1]['Info']['date']\n",
    "))\n",
    "f.write('git push origin master')\n",
    "f.close()"
   ]
  },
  {
   "cell_type": "code",
   "execution_count": 8,
   "metadata": {},
   "outputs": [
    {
     "name": "stdout",
     "output_type": "stream",
     "text": [
      "[master 0bb8f01] Evening Ride 7:11 PM on Wednesday, August 26, 2020\n",
      " 2 files changed, 32 insertions(+), 131 deletions(-)\n",
      " rewrite db/strava.json (79%)\n",
      "Enumerating objects: 9, done.\n",
      "Counting objects: 100% (9/9), done.\n",
      "Delta compression using up to 8 threads\n",
      "Compressing objects: 100% (4/4), done.\n",
      "Writing objects: 100% (5/5), 7.31 KiB | 1.04 MiB/s, done.\n",
      "Total 5 (delta 1), reused 0 (delta 0)\n",
      "remote: Resolving deltas: 100% (1/1), completed with 1 local object.\u001b[K\n",
      "To github.com:restrepo/strava.git\n",
      "   8ebac56..0bb8f01  master -> master\n"
     ]
    }
   ],
   "source": [
    "!bash commit.sh"
   ]
  },
  {
   "cell_type": "code",
   "execution_count": 9,
   "metadata": {},
   "outputs": [
    {
     "name": "stdin",
     "output_type": "stream",
     "text": [
      "Close browser? y\n"
     ]
    }
   ],
   "source": [
    "if not( input('Close browser?').find('n')>-1 ):\n",
    "    browser.close()"
   ]
  },
  {
   "cell_type": "code",
   "execution_count": null,
   "metadata": {},
   "outputs": [],
   "source": []
  }
 ],
 "metadata": {
  "kernelspec": {
   "display_name": "Python 3",
   "language": "python",
   "name": "python3"
  },
  "language_info": {
   "codemirror_mode": {
    "name": "ipython",
    "version": 3
   },
   "file_extension": ".py",
   "mimetype": "text/x-python",
   "name": "python",
   "nbconvert_exporter": "python",
   "pygments_lexer": "ipython3",
   "version": "3.7.3"
  }
 },
 "nbformat": 4,
 "nbformat_minor": 4
}
